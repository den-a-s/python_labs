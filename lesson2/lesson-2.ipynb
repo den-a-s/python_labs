{
 "cells": [
  {
   "cell_type": "markdown",
   "metadata": {},
   "source": [
    "# Функции"
   ]
  },
  {
   "cell_type": "markdown",
   "metadata": {},
   "source": [
    "***def*** *имя_функции ([параметры]):*\n",
    "\n",
    "    инструкции"
   ]
  },
  {
   "cell_type": "code",
   "execution_count": 1,
   "metadata": {},
   "outputs": [],
   "source": [
    "def say_hello():\n",
    "    print(\"Hello\")"
   ]
  },
  {
   "cell_type": "code",
   "execution_count": 2,
   "metadata": {},
   "outputs": [
    {
     "name": "stdout",
     "output_type": "stream",
     "text": [
      "Hello\n",
      "Hello\n",
      "Hello\n"
     ]
    }
   ],
   "source": [
    "def say_hello():\n",
    "    print(\"Hello\")\n",
    "     \n",
    "say_hello()\n",
    "say_hello()\n",
    "say_hello()"
   ]
  },
  {
   "cell_type": "code",
   "execution_count": 3,
   "metadata": {},
   "outputs": [
    {
     "name": "stdout",
     "output_type": "stream",
     "text": [
      "Hello, Tom\n",
      "Hello, Bob\n",
      "Hello, Alice\n"
     ]
    }
   ],
   "source": [
    "def say_hello(name):\n",
    "    print(\"Hello,\",name)\n",
    " \n",
    "say_hello(\"Tom\")\n",
    "say_hello(\"Bob\")\n",
    "say_hello(\"Alice\")"
   ]
  },
  {
   "cell_type": "markdown",
   "metadata": {},
   "source": [
    "### Значения по умолчанию"
   ]
  },
  {
   "cell_type": "code",
   "execution_count": 17,
   "metadata": {},
   "outputs": [
    {
     "name": "stdout",
     "output_type": "stream",
     "text": [
      "Hello,  Tom\n",
      "Hello,  Alice\n"
     ]
    }
   ],
   "source": [
    "def say_hello(name=\"Tom\"):\n",
    "    print(\"Hello, \", name)\n",
    "\n",
    "say_hello()\n",
    "say_hello(\"Alice\")"
   ]
  },
  {
   "cell_type": "markdown",
   "metadata": {},
   "source": [
    "### Именованные параметры"
   ]
  },
  {
   "cell_type": "code",
   "execution_count": 18,
   "metadata": {},
   "outputs": [
    {
     "name": "stdout",
     "output_type": "stream",
     "text": [
      "Name: Tom \t Age: 22\n"
     ]
    }
   ],
   "source": [
    "def display_info(name, age):\n",
    "    print(\"Name:\", name, \"\\t\", \"Age:\", age)\n",
    "     \n",
    "display_info(\"Tom\", 22)"
   ]
  },
  {
   "cell_type": "code",
   "execution_count": 19,
   "metadata": {},
   "outputs": [
    {
     "name": "stdout",
     "output_type": "stream",
     "text": [
      "Name: Tom \t Age: 22\n"
     ]
    }
   ],
   "source": [
    "def display_info(name, age):\n",
    "    print(\"Name:\", name, \"\\t\", \"Age:\", age)\n",
    "     \n",
    "display_info(age=22, name=\"Tom\")"
   ]
  },
  {
   "cell_type": "markdown",
   "metadata": {},
   "source": [
    "### Неопределенное количество параметров"
   ]
  },
  {
   "cell_type": "code",
   "execution_count": 20,
   "metadata": {},
   "outputs": [
    {
     "name": "stdout",
     "output_type": "stream",
     "text": [
      "15\n",
      "18\n"
     ]
    }
   ],
   "source": [
    "def sum(*params):\n",
    "    result = 0\n",
    "    for n in params:\n",
    "        result += n\n",
    "    return result\n",
    " \n",
    " \n",
    "sumOfNumbers1 = sum(1, 2, 3, 4, 5)      # 15\n",
    "sumOfNumbers2 = sum(3, 4, 5, 6)         # 18\n",
    "print(sumOfNumbers1)\n",
    "print(sumOfNumbers2)"
   ]
  },
  {
   "cell_type": "markdown",
   "metadata": {},
   "source": [
    "### Возвращение результата"
   ]
  },
  {
   "cell_type": "code",
   "execution_count": 21,
   "metadata": {},
   "outputs": [
    {
     "name": "stdout",
     "output_type": "stream",
     "text": [
      "500.0\n",
      "535.71\n",
      "461.54\n"
     ]
    }
   ],
   "source": [
    "def exchange(usd_rate, money):\n",
    "    result = round(money/usd_rate, 2)\n",
    "    return result\n",
    " \n",
    "result1 = exchange(60, 30000)\n",
    "print(result1)\n",
    "result2 = exchange(56, 30000)\n",
    "print(result2)\n",
    "result3 = exchange(65, 30000)\n",
    "print(result3)"
   ]
  },
  {
   "cell_type": "code",
   "execution_count": 22,
   "metadata": {},
   "outputs": [
    {
     "name": "stdout",
     "output_type": "stream",
     "text": [
      "Name: Tom \t Age: 33\n"
     ]
    }
   ],
   "source": [
    "def create_default_user():\n",
    "    name = \"Tom\"\n",
    "    age = 33\n",
    "    return name, age\n",
    " \n",
    " \n",
    "user_name, user_age = create_default_user()\n",
    "print(\"Name:\", user_name, \"\\t Age:\", user_age)"
   ]
  },
  {
   "cell_type": "markdown",
   "metadata": {},
   "source": [
    "### Функция main"
   ]
  },
  {
   "cell_type": "code",
   "execution_count": 2,
   "metadata": {},
   "outputs": [
    {
     "name": "stdout",
     "output_type": "stream",
     "text": [
      "Hello, Tom\n",
      "К выдаче 535.71 долларов\n"
     ]
    }
   ],
   "source": [
    "def main():\n",
    "    say_hello(\"Tom\")\n",
    "    usd_rate = 56\n",
    "    money = 30000\n",
    "    result = exchange(usd_rate, money)\n",
    "    print(\"К выдаче\", result, \"долларов\")\n",
    " \n",
    " \n",
    "def say_hello(name):\n",
    "    print(\"Hello,\", name)\n",
    "     \n",
    "     \n",
    "def exchange(usd_rate, money):\n",
    "    result = round(money/usd_rate, 2)\n",
    "    return result\n",
    " \n",
    "# Вызов функции main\n",
    "main()"
   ]
  },
  {
   "cell_type": "markdown",
   "metadata": {},
   "source": [
    "# Область видимости переменных"
   ]
  },
  {
   "cell_type": "markdown",
   "metadata": {},
   "source": [
    "### Глобальный контекст"
   ]
  },
  {
   "cell_type": "code",
   "execution_count": 24,
   "metadata": {},
   "outputs": [
    {
     "name": "stdout",
     "output_type": "stream",
     "text": [
      "Hello Tom\n",
      "Good bye Tom\n"
     ]
    }
   ],
   "source": [
    "name = \"Tom\"\n",
    " \n",
    " \n",
    "def say_hi():\n",
    "    print(\"Hello\", name)\n",
    " \n",
    " \n",
    "def say_bye():\n",
    "    print(\"Good bye\", name)\n",
    " \n",
    "say_hi()\n",
    "say_bye()"
   ]
  },
  {
   "cell_type": "markdown",
   "metadata": {},
   "source": [
    "### Локальный контекст"
   ]
  },
  {
   "cell_type": "code",
   "execution_count": 25,
   "metadata": {},
   "outputs": [
    {
     "name": "stdout",
     "output_type": "stream",
     "text": [
      "Hello Sam Johnson\n",
      "Good bye Tom\n"
     ]
    }
   ],
   "source": [
    "def say_hi():\n",
    "    name = \"Sam\"\n",
    "    surname = \"Johnson\"\n",
    "    print(\"Hello\", name, surname)\n",
    " \n",
    " \n",
    "def say_bye():\n",
    "    name = \"Tom\"\n",
    "    print(\"Good bye\", name)\n",
    " \n",
    "say_hi()\n",
    "say_bye()"
   ]
  },
  {
   "cell_type": "markdown",
   "metadata": {},
   "source": [
    "### Локальная переменная скрывают глобальную с тем же именем"
   ]
  },
  {
   "cell_type": "code",
   "execution_count": 26,
   "metadata": {},
   "outputs": [
    {
     "name": "stdout",
     "output_type": "stream",
     "text": [
      "Hello Tom\n",
      "Good bye Bob\n"
     ]
    }
   ],
   "source": [
    "name = \"Tom\"\n",
    " \n",
    " \n",
    "def say_hi():\n",
    "    print(\"Hello\", name)\n",
    " \n",
    " \n",
    "def say_bye():\n",
    "    name = \"Bob\"\n",
    "    print(\"Good bye\", name)\n",
    " \n",
    "say_hi()  # Hello Tom\n",
    "say_bye()  # Good bye Bob"
   ]
  },
  {
   "cell_type": "markdown",
   "metadata": {},
   "source": [
    "### Ключевое слово global"
   ]
  },
  {
   "cell_type": "code",
   "execution_count": 27,
   "metadata": {},
   "outputs": [],
   "source": [
    "def say_bye():\n",
    "    global name\n",
    "    name = \"Bob\"\n",
    "    print(\"Good bye\", name)"
   ]
  },
  {
   "cell_type": "code",
   "execution_count": 1,
   "metadata": {},
   "outputs": [
    {
     "name": "stdout",
     "output_type": "stream",
     "text": [
      "Площадь круга с радиусом 50 равна 7850.0\n"
     ]
    }
   ],
   "source": [
    "PI = 3.14\n",
    " \n",
    " \n",
    "# вычисление площади круга\n",
    "def get_circle_square(radius):\n",
    " \n",
    "    print(\"Площадь круга с радиусом\", radius, \"равна\", PI * radius * radius)\n",
    " \n",
    "get_circle_square(50)"
   ]
  },
  {
   "cell_type": "markdown",
   "metadata": {},
   "source": [
    "# Списки"
   ]
  },
  {
   "cell_type": "code",
   "execution_count": 2,
   "metadata": {},
   "outputs": [],
   "source": [
    "numbers = [1, 2, 3, 4, 5]"
   ]
  },
  {
   "cell_type": "markdown",
   "metadata": {},
   "source": [
    "### Конструктор list()"
   ]
  },
  {
   "cell_type": "code",
   "execution_count": 30,
   "metadata": {},
   "outputs": [],
   "source": [
    "numbers1 = []\n",
    "numbers2 = list()"
   ]
  },
  {
   "cell_type": "code",
   "execution_count": 31,
   "metadata": {},
   "outputs": [],
   "source": [
    "numbers = [1, 2, 3, 4, 5, 6, 7, 8, 9]\n",
    "numbers2 = list(numbers)"
   ]
  },
  {
   "cell_type": "markdown",
   "metadata": {},
   "source": [
    "### Отрицательные индексы"
   ]
  },
  {
   "cell_type": "code",
   "execution_count": 32,
   "metadata": {},
   "outputs": [
    {
     "name": "stdout",
     "output_type": "stream",
     "text": [
      "1\n",
      "3\n",
      "3\n",
      "125\n"
     ]
    }
   ],
   "source": [
    "numbers = [1, 2, 3, 4, 5]\n",
    "print(numbers[0])   # 1\n",
    "print(numbers[2])   # 3\n",
    "print(numbers[-3])  # 3\n",
    " \n",
    "numbers[0] = 125  # изменяем первый элемент списка\n",
    "print(numbers[0])   # 125"
   ]
  },
  {
   "cell_type": "markdown",
   "metadata": {},
   "source": [
    "### Создание списка из повторяющихся значений"
   ]
  },
  {
   "cell_type": "code",
   "execution_count": 33,
   "metadata": {},
   "outputs": [
    {
     "name": "stdout",
     "output_type": "stream",
     "text": [
      "[5, 5, 5, 5, 5, 5]\n"
     ]
    }
   ],
   "source": [
    "numbers = [5] * 6  # [5, 5, 5, 5, 5, 5]\n",
    "print(numbers)"
   ]
  },
  {
   "cell_type": "markdown",
   "metadata": {},
   "source": [
    "### Использование функции range для создания списка"
   ]
  },
  {
   "cell_type": "code",
   "execution_count": 34,
   "metadata": {},
   "outputs": [
    {
     "name": "stdout",
     "output_type": "stream",
     "text": [
      "[0, 1, 2, 3, 4, 5, 6, 7, 8, 9]\n",
      "[2, 3, 4, 5, 6, 7, 8, 9]\n",
      "[10, 8, 6, 4]\n"
     ]
    }
   ],
   "source": [
    "numbers = list(range(10))\n",
    "print(numbers)      # [0, 1, 2, 3, 4, 5, 6, 7, 8, 9]\n",
    "numbers = list(range(2, 10))\n",
    "print(numbers)      # [2, 3, 4, 5, 6, 7, 8, 9]\n",
    "numbers = list(range(10, 2, -2))\n",
    "print(numbers)      # [10, 8, 6, 4]"
   ]
  },
  {
   "cell_type": "code",
   "execution_count": 35,
   "metadata": {},
   "outputs": [],
   "source": [
    "numbers = [1, 2, 3, 4, 5, 6, 7, 8, 9]\n",
    "numbers2 = list(range(1, 10))"
   ]
  },
  {
   "cell_type": "markdown",
   "metadata": {},
   "source": [
    "### Разнотипные объекты в списке"
   ]
  },
  {
   "cell_type": "code",
   "execution_count": 36,
   "metadata": {},
   "outputs": [],
   "source": [
    "objects = [1, 2.6, \"Hello\", True]"
   ]
  },
  {
   "cell_type": "markdown",
   "metadata": {},
   "source": [
    "## Перебор элементов"
   ]
  },
  {
   "cell_type": "markdown",
   "metadata": {},
   "source": [
    "### Перебор с помощью цикла for:"
   ]
  },
  {
   "cell_type": "code",
   "execution_count": 37,
   "metadata": {},
   "outputs": [
    {
     "name": "stdout",
     "output_type": "stream",
     "text": [
      "Microsoft\n",
      "Google\n",
      "Oracle\n",
      "Apple\n"
     ]
    }
   ],
   "source": [
    "companies = [\"Microsoft\", \"Google\", \"Oracle\", \"Apple\"]\n",
    "for item in companies:\n",
    "    print(item)"
   ]
  },
  {
   "cell_type": "markdown",
   "metadata": {},
   "source": [
    "### Перебор с помощью цикла while:"
   ]
  },
  {
   "cell_type": "code",
   "execution_count": 38,
   "metadata": {},
   "outputs": [
    {
     "name": "stdout",
     "output_type": "stream",
     "text": [
      "Microsoft\n",
      "Google\n",
      "Oracle\n",
      "Apple\n"
     ]
    }
   ],
   "source": [
    "companies = [\"Microsoft\", \"Google\", \"Oracle\", \"Apple\"]\n",
    "i = 0\n",
    "while i < len(companies):\n",
    "    print(companies[i])\n",
    "    i += 1"
   ]
  },
  {
   "cell_type": "markdown",
   "metadata": {},
   "source": [
    "## Сравнение списков"
   ]
  },
  {
   "cell_type": "code",
   "execution_count": 39,
   "metadata": {},
   "outputs": [
    {
     "name": "stdout",
     "output_type": "stream",
     "text": [
      "numbers equal to numbers2\n"
     ]
    }
   ],
   "source": [
    "numbers = [1, 2, 3, 4, 5, 6, 7, 8, 9]\n",
    "numbers2 = list(range(1,10))\n",
    "if numbers == numbers2:\n",
    "    print(\"numbers equal to numbers2\")\n",
    "else:\n",
    "    print(\"numbers is not equal to numbers2\")"
   ]
  },
  {
   "cell_type": "markdown",
   "metadata": {},
   "source": [
    "## Методы и функции по работе со списками"
   ]
  },
  {
   "cell_type": "markdown",
   "metadata": {},
   "source": [
    "Для управления элементами списки имеют целый ряд методов. Некоторые из них:\n",
    "\n",
    "**append(item)**: добавляет элемент item в конец списка\n",
    "\n",
    "**insert(index, item)**: добавляет элемент item в список по индексу index\n",
    "\n",
    "**remove(item)**: удаляет элемент item. Удаляется только первое вхождение элемента. Если элемент не найден, генерирует исключение ValueError\n",
    "\n",
    "**clear()**: удаление всех элементов из списка\n",
    "\n",
    "**index(item)**: возвращает индекс элемента item. Если элемент не найден, генерирует исключение ValueError\n",
    "\n",
    "**pop([index])**: удаляет и возвращает элемент по индексу index. Если индекс не передан, то просто удаляет последний элемент.\n",
    "\n",
    "**count(item)**: возвращает количество вхождений элемента item в список\n",
    "\n",
    "**sort([key])**: сортирует элементы. По умолчанию сортирует по возрастанию. Но с помощью параметра key мы можем передать функцию сортировки.\n",
    "\n",
    "**reverse()**: расставляет все элементы в списке в обратном порядке\n",
    "\n",
    "Кроме того, Python предоставляет ряд встроенных функций для работы со списками:\n",
    "\n",
    "**len(list)**: возвращает длину списка\n",
    "\n",
    "**sorted(list, [key])**: возвращает отсортированный список\n",
    "\n",
    "**min(list)**: возвращает наименьший элемент списка\n",
    "\n",
    "**max(list)**: возвращает наибольший элемент списка"
   ]
  },
  {
   "cell_type": "markdown",
   "metadata": {},
   "source": [
    "## Добавление и удаление элементов"
   ]
  },
  {
   "cell_type": "code",
   "execution_count": 40,
   "metadata": {},
   "outputs": [
    {
     "name": "stdout",
     "output_type": "stream",
     "text": [
      "['Bill', 'Bob']\n"
     ]
    }
   ],
   "source": [
    "users = [\"Tom\", \"Bob\"]\n",
    " \n",
    "# добавляем в конец списка\n",
    "users.append(\"Alice\")  # [\"Tom\", \"Bob\", \"Alice\"]\n",
    "# добавляем на вторую позицию\n",
    "users.insert(1, \"Bill\")          # [\"Tom\", \"Bill\", \"Bob\", \"Alice\"]\n",
    " \n",
    "# получаем индекс элемента\n",
    "i = users.index(\"Tom\")\n",
    "# удаляем по этому индексу\n",
    "removed_item = users.pop(i)            # [\"Bill\", \"Bob\", \"Alice\"]\n",
    " \n",
    "last_user = users[-1]\n",
    "# удаляем последний элемент\n",
    "users.remove(last_user)           # [\"Bill\", \"Bob\"]\n",
    " \n",
    "print(users)\n",
    " \n",
    "# удаляем все элементы\n",
    "users.clear()"
   ]
  },
  {
   "cell_type": "markdown",
   "metadata": {},
   "source": [
    "## Проверка наличия элемента"
   ]
  },
  {
   "cell_type": "code",
   "execution_count": 41,
   "metadata": {},
   "outputs": [
    {
     "name": "stdout",
     "output_type": "stream",
     "text": [
      "['Microsoft', 'Google', 'Apple']\n"
     ]
    }
   ],
   "source": [
    "companies = [\"Microsoft\", \"Google\", \"Oracle\", \"Apple\"]\n",
    "item = \"Oracle\"  # элемент для удаления\n",
    "if item in companies:\n",
    "    companies.remove(item)\n",
    " \n",
    "print(companies)"
   ]
  },
  {
   "cell_type": "markdown",
   "metadata": {},
   "source": [
    "## Подсчет вхождений"
   ]
  },
  {
   "cell_type": "code",
   "execution_count": 12,
   "metadata": {},
   "outputs": [
    {
     "name": "stdout",
     "output_type": "stream",
     "text": [
      "3\n"
     ]
    }
   ],
   "source": [
    "users = [\"Tom\", \"Bob\", \"Alice\", \"Tom\", \"Bill\", \"Tom\"]\n",
    " \n",
    "users_count = users.count(\"Tom\")\n",
    "print(users_count)      # 3"
   ]
  },
  {
   "cell_type": "markdown",
   "metadata": {},
   "source": [
    "## Сортировка"
   ]
  },
  {
   "cell_type": "code",
   "execution_count": 13,
   "metadata": {},
   "outputs": [
    {
     "name": "stdout",
     "output_type": "stream",
     "text": [
      "['Alice', 'Bill', 'Bob', 'Sam', 'Tom']\n"
     ]
    }
   ],
   "source": [
    "users = [\"Tom\", \"Bob\", \"Alice\", \"Sam\", \"Bill\"]\n",
    " \n",
    "users.sort()\n",
    "print(users)      # [\"Alice\", \"Bill\", \"Bob\", \"Sam\", \"Tom\"]"
   ]
  },
  {
   "cell_type": "code",
   "execution_count": 11,
   "metadata": {},
   "outputs": [
    {
     "name": "stdout",
     "output_type": "stream",
     "text": [
      "['Tom', 'Sam', 'Bob', 'Bill', 'Alice']\n"
     ]
    }
   ],
   "source": [
    "users = [\"Tom\", \"Bob\", \"Alice\", \"Sam\", \"Bill\"]\n",
    " \n",
    "users.sort()\n",
    "users.reverse()\n",
    "print(users)      # [\"Tom\", \"Sam\", \"Bob\", \"Bill\", \"Alice\"]"
   ]
  },
  {
   "cell_type": "code",
   "execution_count": 10,
   "metadata": {},
   "outputs": [
    {
     "name": "stdout",
     "output_type": "stream",
     "text": [
      "['alice', 'Bill', 'bob', 'Sam', 'Tom']\n"
     ]
    }
   ],
   "source": [
    "users = [\"Tom\", \"bob\", \"alice\", \"Sam\", \"Bill\"]\n",
    " \n",
    "users.sort(key=str.lower)\n",
    "print(users)      # [\"alice\", \"Bill\", \"bob\", \"Sam\", \"Tom\"]"
   ]
  },
  {
   "cell_type": "markdown",
   "metadata": {},
   "source": [
    "Кроме метода sort мы можем использовать встроенную функцию **sorted**, которая имеет две формы:\n",
    "\n",
    "**sorted(list)**: сортирует список list\n",
    "\n",
    "**sorted(list, key)**: сортирует список list, применяя к элементам функцию key"
   ]
  },
  {
   "cell_type": "code",
   "execution_count": 9,
   "metadata": {},
   "outputs": [
    {
     "name": "stdout",
     "output_type": "stream",
     "text": [
      "['alice', 'Bill', 'bob', 'Sam', 'Tom']\n"
     ]
    }
   ],
   "source": [
    "users = [\"Tom\", \"bob\", \"alice\", \"Sam\", \"Bill\"]\n",
    " \n",
    "sorted_users = sorted(users, key=str.lower)\n",
    "print(sorted_users)      # [\"alice\", \"Bill\", \"bob\", \"Sam\", \"Tom\"]"
   ]
  },
  {
   "cell_type": "markdown",
   "metadata": {},
   "source": [
    "## Минимальное и максимальное значения"
   ]
  },
  {
   "cell_type": "code",
   "execution_count": 47,
   "metadata": {},
   "outputs": [
    {
     "name": "stdout",
     "output_type": "stream",
     "text": [
      "1\n",
      "21\n"
     ]
    }
   ],
   "source": [
    "numbers = [9, 21, 12, 1, 3, 15, 18]\n",
    "print(min(numbers))     # 1\n",
    "print(max(numbers))     # 21"
   ]
  },
  {
   "cell_type": "markdown",
   "metadata": {},
   "source": [
    "## Копирование списков"
   ]
  },
  {
   "cell_type": "code",
   "execution_count": 8,
   "metadata": {},
   "outputs": [
    {
     "name": "stdout",
     "output_type": "stream",
     "text": [
      "['Tom', 'Bob', 'Alice', 'Sam']\n",
      "['Tom', 'Bob', 'Alice', 'Sam']\n"
     ]
    }
   ],
   "source": [
    "users1 = [\"Tom\", \"Bob\", \"Alice\"]\n",
    "users2 = users1\n",
    "users2.append(\"Sam\")\n",
    "# users1 и users2 указывают на один и тот же список\n",
    "print(users1)   # [\"Tom\", \"Bob\", \"Alice\", \"Sam\"]\n",
    "print(users2)   # [\"Tom\", \"Bob\", \"Alice\", \"Sam\"]"
   ]
  },
  {
   "cell_type": "code",
   "execution_count": 7,
   "metadata": {},
   "outputs": [
    {
     "name": "stdout",
     "output_type": "stream",
     "text": [
      "['Tom', 'Bob', 'Alice']\n",
      "['Tom', 'Bob', 'Alice', 'Sam']\n"
     ]
    }
   ],
   "source": [
    "import copy\n",
    " \n",
    "users1 = [\"Tom\", \"Bob\", \"Alice\"]\n",
    "users2 = copy.deepcopy(users1)\n",
    "users2.append(\"Sam\")\n",
    "# пееменные users1 и users2 указывают на разные списки\n",
    "print(users1)   # [\"Tom\", \"Bob\", \"Alice\"]\n",
    "print(users2)   # [\"Tom\", \"Bob\", \"Alice\", \"Sam\"]"
   ]
  },
  {
   "cell_type": "markdown",
   "metadata": {},
   "source": [
    "## Копирование части списка"
   ]
  },
  {
   "cell_type": "markdown",
   "metadata": {},
   "source": [
    "Если необходимо скопировать не весь список, а только его какую-то определенную часть, то мы можем применять специальный синтаксис. который может принимать следующие формы:\n",
    "\n",
    "**list[:end]**: через параметр end передается индекс элемента, до которого нужно копировать список\n",
    "\n",
    "**list[start:end]**: параметр start указывает на индекс элемента, начиная с которого надо скопировать элементы\n",
    "\n",
    "**list[start:end:step]**: параметр step указывает на шаг, через который будут копироваться элементы из списка. По умолчанию этот параметр равен 1."
   ]
  },
  {
   "cell_type": "code",
   "execution_count": 6,
   "metadata": {},
   "outputs": [
    {
     "name": "stdout",
     "output_type": "stream",
     "text": [
      "['Tom', 'Bob', 'Alice']\n",
      "['Bob', 'Alice']\n",
      "['Bob', 'Sam', 'Bill']\n"
     ]
    }
   ],
   "source": [
    "users = [\"Tom\", \"Bob\", \"Alice\", \"Sam\", \"Tim\", \"Bill\"]\n",
    " \n",
    "slice_users1 = users[:3]   # с 0 по 3\n",
    "print(slice_users1)   # [\"Tom\", \"Bob\", \"Alice\"]\n",
    " \n",
    "slice_users2 = users[1:3]   # с 1 по 3\n",
    "print(slice_users2)   # [\"Bob\", \"Alice\"]\n",
    " \n",
    "slice_users3 = users[1:6:2]   # с 1 по 6 с шагом 2\n",
    "print(slice_users3)   # [\"Bob\", \"Sam\", \"Bill\"]"
   ]
  },
  {
   "cell_type": "markdown",
   "metadata": {},
   "source": [
    "## Соединение списков"
   ]
  },
  {
   "cell_type": "code",
   "execution_count": 5,
   "metadata": {},
   "outputs": [
    {
     "name": "stdout",
     "output_type": "stream",
     "text": [
      "['Tom', 'Bob', 'Alice', 'Tom', 'Sam', 'Tim', 'Bill']\n"
     ]
    }
   ],
   "source": [
    "users1 = [\"Tom\", \"Bob\", \"Alice\"]\n",
    "users2 = [\"Tom\", \"Sam\", \"Tim\", \"Bill\"]\n",
    "users3 = users1 + users2\n",
    "print(users3)   # [\"Tom\", \"Bob\", \"Alice\", \"Tom\", \"Sam\", \"Tim\", \"Bill\"]"
   ]
  },
  {
   "cell_type": "markdown",
   "metadata": {},
   "source": [
    "## Списки списков"
   ]
  },
  {
   "cell_type": "code",
   "execution_count": 4,
   "metadata": {},
   "outputs": [
    {
     "name": "stdout",
     "output_type": "stream",
     "text": [
      "['Tom', 29]\n",
      "Tom\n",
      "29\n"
     ]
    }
   ],
   "source": [
    "users = [\n",
    "    [\"Tom\", 29],\n",
    "    [\"Alice\", 33],\n",
    "    [\"Bob\", 27]\n",
    "]\n",
    " \n",
    "print(users[0])         # [\"Tom\", 29]\n",
    "print(users[0][0])      # Tom\n",
    "print(users[0][1])      # 29"
   ]
  },
  {
   "cell_type": "code",
   "execution_count": 2,
   "metadata": {},
   "outputs": [
    {
     "name": "stdout",
     "output_type": "stream",
     "text": [
      "['Bill', 41]\n",
      "['Bill', 41, '+79876543210']\n",
      "['Bill', 41]\n",
      "[['Sam', 18], ['Alice', 33], ['Bob', 27]]\n"
     ]
    }
   ],
   "source": [
    "users = [\n",
    "    [\"Tom\", 29],\n",
    "    [\"Alice\", 33],\n",
    "    [\"Bob\", 27]\n",
    "]\n",
    " \n",
    "# создание вложенного списка\n",
    "user = list()\n",
    "user.append(\"Bill\")\n",
    "user.append(41)\n",
    "# добавление вложенного списка\n",
    "users.append(user)\n",
    " \n",
    "print(users[-1])         # [\"Bill\", 41]\n",
    " \n",
    "# добавление во вложенный список\n",
    "users[-1].append(\"+79876543210\")\n",
    " \n",
    "print(users[-1])         # [\"Bill\", 41, \"+79876543210\"]\n",
    " \n",
    "# удаление последнего элемента из вложенного списка\n",
    "users[-1].pop()\n",
    "print(users[-1])         # [\"Bill\", 41]\n",
    " \n",
    "# удаление всего последнего вложенного списка\n",
    "users.pop(-1)\n",
    " \n",
    "# изменение первого элемента\n",
    "users[0] = [\"Sam\", 18]\n",
    "print(users)            # [ [\"Sam\", 18], [\"Alice\", 33], [\"Bob\", 27]]"
   ]
  },
  {
   "cell_type": "markdown",
   "metadata": {},
   "source": [
    "### Перебор вложенных списков:\n",
    "\n"
   ]
  },
  {
   "cell_type": "code",
   "execution_count": 3,
   "metadata": {},
   "outputs": [
    {
     "name": "stdout",
     "output_type": "stream",
     "text": [
      "Tom | 29 | Alice | 33 | Bob | 27 | "
     ]
    }
   ],
   "source": [
    "users = [\n",
    "    [\"Tom\", 29],\n",
    "    [\"Alice\", 33],\n",
    "    [\"Bob\", 27]\n",
    "]\n",
    " \n",
    "for user in users:\n",
    "    for item in user:\n",
    "        print(item, end=\" | \")"
   ]
  },
  {
   "cell_type": "markdown",
   "metadata": {},
   "source": [
    "# Задачи\n",
    "\n",
    "### 1. Построить двумерный массив. Отсортировать столбцы по возрастанию сумм значений элементов.\n",
    "### 2. Программа принимает строку с числами. Вывести значения, которые повторяются более одного раза.\n",
    "### 3. Найти пересечение двух массивов.\n",
    "### 4. Из массива чисел определить наибольшее число, которое можно построить."
   ]
  },
  {
   "cell_type": "code",
   "execution_count": null,
   "metadata": {},
   "outputs": [],
   "source": []
  }
 ],
 "metadata": {
  "kernelspec": {
   "display_name": "Python 3",
   "language": "python",
   "name": "python3"
  },
  "language_info": {
   "codemirror_mode": {
    "name": "ipython",
    "version": 3
   },
   "file_extension": ".py",
   "mimetype": "text/x-python",
   "name": "python",
   "nbconvert_exporter": "python",
   "pygments_lexer": "ipython3",
   "version": "3.8.10"
  }
 },
 "nbformat": 4,
 "nbformat_minor": 4
}
