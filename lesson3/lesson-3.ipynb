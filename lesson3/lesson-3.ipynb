{
 "cells": [
  {
   "cell_type": "markdown",
   "metadata": {},
   "source": [
    "# Кортежи"
   ]
  },
  {
   "cell_type": "markdown",
   "metadata": {},
   "source": [
    "### Создание кортежа"
   ]
  },
  {
   "cell_type": "code",
   "execution_count": 1,
   "metadata": {},
   "outputs": [
    {
     "name": "stdout",
     "output_type": "stream",
     "text": [
      "('Tom', 23)\n"
     ]
    }
   ],
   "source": [
    "user = (\"Tom\", 23)\n",
    "print(user)"
   ]
  },
  {
   "cell_type": "code",
   "execution_count": 2,
   "metadata": {},
   "outputs": [
    {
     "name": "stdout",
     "output_type": "stream",
     "text": [
      "('Tom', 23)\n"
     ]
    }
   ],
   "source": [
    "user = \"Tom\", 23\n",
    "print(user)"
   ]
  },
  {
   "cell_type": "markdown",
   "metadata": {},
   "source": [
    "### Кортеж из одного элемента"
   ]
  },
  {
   "cell_type": "code",
   "execution_count": 3,
   "metadata": {},
   "outputs": [],
   "source": [
    "user = (\"Tom\",)"
   ]
  },
  {
   "cell_type": "markdown",
   "metadata": {},
   "source": [
    "### Создание кортежа из списка с помощью функции tuple()"
   ]
  },
  {
   "cell_type": "code",
   "execution_count": 4,
   "metadata": {},
   "outputs": [
    {
     "name": "stdout",
     "output_type": "stream",
     "text": [
      "('Tom', 'Bob', 'Kate')\n"
     ]
    }
   ],
   "source": [
    "users_list = [\"Tom\", \"Bob\", \"Kate\"]\n",
    "users_tuple = tuple(users_list)\n",
    "print(users_tuple)      # (\"Tom\", \"Bob\", \"Kate\")"
   ]
  },
  {
   "cell_type": "markdown",
   "metadata": {},
   "source": [
    "### Обращение к элементам в кортеже"
   ]
  },
  {
   "cell_type": "code",
   "execution_count": 5,
   "metadata": {},
   "outputs": [
    {
     "name": "stdout",
     "output_type": "stream",
     "text": [
      "Tom\n",
      "Sam\n",
      "Kate\n",
      "('Bob', 'Sam', 'Kate')\n"
     ]
    }
   ],
   "source": [
    "users = (\"Tom\", \"Bob\", \"Sam\", \"Kate\")\n",
    "print(users[0])     # Tom\n",
    "print(users[2])     # Sam\n",
    "print(users[-1])     # Kate\n",
    " \n",
    "# получим часть кортежа со 2 элемента по 4\n",
    "print(users[1:4])       # (\"Bob\", \"Sam\", \"Kate\")"
   ]
  },
  {
   "cell_type": "markdown",
   "metadata": {},
   "source": [
    "### Кортеж - неизменяемый тип (immutable)"
   ]
  },
  {
   "cell_type": "code",
   "execution_count": 6,
   "metadata": {},
   "outputs": [
    {
     "ename": "TypeError",
     "evalue": "'tuple' object does not support item assignment",
     "output_type": "error",
     "traceback": [
      "\u001b[1;31m---------------------------------------------------------------------------\u001b[0m",
      "\u001b[1;31mTypeError\u001b[0m                                 Traceback (most recent call last)",
      "\u001b[1;32m<ipython-input-6-c0a3fabb5994>\u001b[0m in \u001b[0;36m<module>\u001b[1;34m\u001b[0m\n\u001b[1;32m----> 1\u001b[1;33m \u001b[0musers\u001b[0m\u001b[1;33m[\u001b[0m\u001b[1;36m1\u001b[0m\u001b[1;33m]\u001b[0m \u001b[1;33m=\u001b[0m \u001b[1;34m\"Tim\"\u001b[0m\u001b[1;33m\u001b[0m\u001b[1;33m\u001b[0m\u001b[0m\n\u001b[0m",
      "\u001b[1;31mTypeError\u001b[0m: 'tuple' object does not support item assignment"
     ]
    }
   ],
   "source": [
    "users[1] = \"Tim\""
   ]
  },
  {
   "cell_type": "markdown",
   "metadata": {},
   "source": [
    "### Можно разложить кортеж на отдельные переменные"
   ]
  },
  {
   "cell_type": "code",
   "execution_count": 7,
   "metadata": {},
   "outputs": [
    {
     "name": "stdout",
     "output_type": "stream",
     "text": [
      "Tom\n",
      "22\n",
      "False\n"
     ]
    }
   ],
   "source": [
    "user = (\"Tom\", 22, False)\n",
    "name, age, isMarried = user\n",
    "print(name)             # Tom\n",
    "print(age)              # 22\n",
    "print(isMarried)        # False"
   ]
  },
  {
   "cell_type": "markdown",
   "metadata": {},
   "source": [
    "### Удобно использовать кортежи, когда необходимо возвратить из функции сразу несколько значений. Когда функция возвращает несколько значений, фактически она возвращает в кортеж:"
   ]
  },
  {
   "cell_type": "code",
   "execution_count": 8,
   "metadata": {},
   "outputs": [
    {
     "name": "stdout",
     "output_type": "stream",
     "text": [
      "Tom\n",
      "22\n",
      "False\n"
     ]
    }
   ],
   "source": [
    "def get_user():\n",
    "    name = \"Tom\"\n",
    "    age = 22\n",
    "    is_married = False\n",
    "    return name, age, is_married\n",
    " \n",
    " \n",
    "user = get_user()\n",
    "print(user[0])              # Tom\n",
    "print(user[1])              # 22\n",
    "print(user[2])              # False"
   ]
  },
  {
   "cell_type": "markdown",
   "metadata": {},
   "source": [
    "### С помощью встроенной функции len() можно получить длину кортежа:"
   ]
  },
  {
   "cell_type": "code",
   "execution_count": 9,
   "metadata": {},
   "outputs": [
    {
     "name": "stdout",
     "output_type": "stream",
     "text": [
      "3\n"
     ]
    }
   ],
   "source": [
    "user = (\"Tom\", 22, False)\n",
    "print(len(user))        # 3"
   ]
  },
  {
   "cell_type": "markdown",
   "metadata": {},
   "source": [
    "### Перебор кортежей"
   ]
  },
  {
   "cell_type": "markdown",
   "metadata": {},
   "source": [
    "##### for"
   ]
  },
  {
   "cell_type": "code",
   "execution_count": 10,
   "metadata": {},
   "outputs": [
    {
     "name": "stdout",
     "output_type": "stream",
     "text": [
      "Tom\n",
      "22\n",
      "False\n"
     ]
    }
   ],
   "source": [
    "user = (\"Tom\", 22, False)\n",
    "for item in user:\n",
    "    print(item)"
   ]
  },
  {
   "cell_type": "markdown",
   "metadata": {},
   "source": [
    "##### while"
   ]
  },
  {
   "cell_type": "code",
   "execution_count": 11,
   "metadata": {},
   "outputs": [
    {
     "name": "stdout",
     "output_type": "stream",
     "text": [
      "Tom\n",
      "22\n",
      "False\n"
     ]
    }
   ],
   "source": [
    "user = (\"Tom\", 22, False)\n",
    " \n",
    "i = 0\n",
    "while i < len(user):\n",
    "    print(user[i])\n",
    "    i += 1"
   ]
  },
  {
   "cell_type": "markdown",
   "metadata": {},
   "source": [
    "### Проверка наличия элемента в кортеже"
   ]
  },
  {
   "cell_type": "code",
   "execution_count": 12,
   "metadata": {},
   "outputs": [
    {
     "name": "stdout",
     "output_type": "stream",
     "text": [
      "Пользователя зовут Tom\n"
     ]
    }
   ],
   "source": [
    "user = (\"Tom\", 22, False)\n",
    "name = \"Tom\"\n",
    "if name in user:\n",
    "    print(\"Пользователя зовут Tom\")\n",
    "else:\n",
    "    print(\"Пользователь имеет другое имя\")"
   ]
  },
  {
   "cell_type": "markdown",
   "metadata": {},
   "source": [
    "### Сложные кортежи"
   ]
  },
  {
   "cell_type": "code",
   "execution_count": 13,
   "metadata": {},
   "outputs": [
    {
     "name": "stdout",
     "output_type": "stream",
     "text": [
      "\n",
      "Country: Germany  population: 80.2\n",
      "City: Berlin  population: 3.326\n",
      "City: Hamburg  population: 1.718\n",
      "\n",
      "Country: France  population: 66\n",
      "City: Paris  population: 2.2\n",
      "City: Marsel  population: 1.6\n"
     ]
    }
   ],
   "source": [
    "countries = (\n",
    "    (\"Germany\", 80.2, ((\"Berlin\",3.326), (\"Hamburg\", 1.718))),\n",
    "    (\"France\", 66, ((\"Paris\", 2.2),(\"Marsel\", 1.6)))\n",
    ")\n",
    " \n",
    "for country in countries:\n",
    "    countryName, countryPopulation, cities = country\n",
    "    print(\"\\nCountry: {}  population: {}\".format(countryName, countryPopulation))\n",
    "    for city in cities:\n",
    "        cityName, cityPopulation = city\n",
    "        print(\"City: {}  population: {}\".format(cityName, cityPopulation))"
   ]
  },
  {
   "cell_type": "code",
   "execution_count": null,
   "metadata": {},
   "outputs": [],
   "source": []
  }
 ],
 "metadata": {
  "kernelspec": {
   "display_name": "Python 3",
   "language": "python",
   "name": "python3"
  },
  "language_info": {
   "codemirror_mode": {
    "name": "ipython",
    "version": 3
   },
   "file_extension": ".py",
   "mimetype": "text/x-python",
   "name": "python",
   "nbconvert_exporter": "python",
   "pygments_lexer": "ipython3",
   "version": "3.7.4"
  }
 },
 "nbformat": 4,
 "nbformat_minor": 4
}
