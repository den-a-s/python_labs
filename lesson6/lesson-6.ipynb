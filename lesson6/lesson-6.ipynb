{
 "cells": [
  {
   "cell_type": "markdown",
   "metadata": {},
   "source": [
    "# Объектно-ориентированное программирование"
   ]
  },
  {
   "cell_type": "markdown",
   "metadata": {},
   "source": [
    "## Классы и объекты"
   ]
  },
  {
   "cell_type": "markdown",
   "metadata": {},
   "source": [
    "Класс является шаблоном или формальным описанием объекта, а объект представляет экземпляр этого класса, его реальное воплощение.\n",
    "\n",
    "Класс объединяет набор функций и переменных, которые выполняют определенную задачу. Функции класса еще называют методами. Они определяют поведение класса. А переменные класса называют атрибутами- они хранят состояние класса.\n",
    "\n",
    "Класс определяется с помощью ключевого слова **class**:\n",
    "\n",
    "class название\\_класса:\n",
    "\n",
    "    методы_класса"
   ]
  },
  {
   "cell_type": "markdown",
   "metadata": {},
   "source": [
    "Для создания **объекта** класса используется следующий синтаксис:\n",
    "    \n",
    "название\\_объекта = название\\_класса([параметры])"
   ]
  },
  {
   "cell_type": "markdown",
   "metadata": {},
   "source": [
    "Если класс является дочерним, то родительские классы перечисляются в круглых скобках после имени класса.\n",
    "\n",
    "Объект создается путем вызова класса по его имени. При этом после имени класса обязательно ставятся скобки.\n",
    "\n",
    "То есть класс вызывается подобно функции. Однако в случае вызова класса происходит не выполнение его тела, как это происходило бы при вызове функции, а создается объект. Поскольку в программном коде важно не потерять ссылку на только что созданный объект, то обычно его связывают с переменной."
   ]
  },
  {
   "cell_type": "code",
   "execution_count": 2,
   "metadata": {},
   "outputs": [
    {
     "name": "stdout",
     "output_type": "stream",
     "text": [
      "Hi, my name is  John\n",
      "Hi, my name is  Lucy\n"
     ]
    }
   ],
   "source": [
    "class Person:\n",
    "    name = \"John\"\n",
    " \n",
    "    def display_info(self):\n",
    "        print(\"Hi, my name is \", self.name)\n",
    " \n",
    "person1 = Person()\n",
    "person1.display_info()\n",
    " \n",
    "person2 = Person()\n",
    "person2.name = \"Lucy\"\n",
    "person2.display_info()"
   ]
  },
  {
   "cell_type": "markdown",
   "metadata": {},
   "source": [
    "Класс Person определяет атрибут *name*, который хранит имя человека, и метод *display_info*, с помощью которого выводится информация о человеке.\n",
    "\n",
    "При определении методов любого класса следует учитывать, что все они должны принимать в качестве первого параметра ссылку на текущий объект, который согласно условностям называется ***self*** (в ряде языков программирования есть своего рода аналог - ключевое слово *this*). Через эту ссылку внутри класса мы можем обратиться к методам или атрибутам этого же класса. В частности, через выражение *self.name* можно получить имя пользователя.\n",
    "\n",
    "После определения класса Person создаем пару его объектов - *person1* и *person2*. Используя имя объекта, мы можем обратиться к его методам и атрибутам. В данном случае у каждого из объектов вызываем метод *display_info()*, который выводит строку на консоль, и у второго объекта также изменяем атрибут *name*. При этом при вызове метода *display_info* не надо передавать значение для параметра *self*."
   ]
  },
  {
   "cell_type": "markdown",
   "metadata": {},
   "source": [
    "## Конструкторы"
   ]
  },
  {
   "cell_type": "markdown",
   "metadata": {},
   "source": [
    "Для создания объекта класса используется **конструктор**. Так, выше когда мы создавали объекты класса Person, мы использовали конструктор по умолчанию, который неявно имеют все классы:"
   ]
  },
  {
   "cell_type": "code",
   "execution_count": 3,
   "metadata": {},
   "outputs": [],
   "source": [
    "person1 = Person()\n",
    "person2 = Person()"
   ]
  },
  {
   "cell_type": "markdown",
   "metadata": {},
   "source": [
    "Можно явным образом определить в классах конструктор с помощью специального метода, который называется ***\\_\\_init()***. К примеру, изменим класс *Person*, добавив в него конструктор:"
   ]
  },
  {
   "cell_type": "code",
   "execution_count": 4,
   "metadata": {},
   "outputs": [
    {
     "name": "stdout",
     "output_type": "stream",
     "text": [
      "Hi, my name is  John\n",
      "Hi, my name is  Lucy\n"
     ]
    }
   ],
   "source": [
    "class Person:\n",
    " \n",
    "    def __init__(self, name):\n",
    "        self.name = name\n",
    " \n",
    "    def display_info(self):\n",
    "        print(\"Hi, my name is \", self.name)\n",
    " \n",
    " \n",
    "person1 = Person(\"John\")\n",
    "person1.display_info()\n",
    "person2 = Person(\"Lucy\")\n",
    "person2.display_info()"
   ]
  },
  {
   "cell_type": "markdown",
   "metadata": {},
   "source": [
    "В качестве первого параметра конструктор также принимает ссылку на текущий объект - *self*. Нередко в конструкторах устанавливаются атрибуты класса. Так, в данном случае в качестве второго параметра в конструктор передается имя пользователя, которое устанавливается для атрибута *self.name*. Причем для атрибута необязательно определять в классе переменную name, как это было в предыдущей версии класса *Person*. Установка значения *self.name = name* уже неявно создает атрибут *name*."
   ]
  },
  {
   "cell_type": "markdown",
   "metadata": {},
   "source": [
    "## Деструктор"
   ]
  },
  {
   "cell_type": "markdown",
   "metadata": {},
   "source": [
    "После окончания работы с объектом мы можем использовать оператор ***del*** для удаления его из памяти:"
   ]
  },
  {
   "cell_type": "code",
   "execution_count": 5,
   "metadata": {},
   "outputs": [],
   "source": [
    "person1 = Person(\"John\")\n",
    "del person1\n",
    "# person1.display_info()  # Этот метод работать не будет, так как person1 уже удален из памяти"
   ]
  },
  {
   "cell_type": "markdown",
   "metadata": {},
   "source": [
    "В принципе это необязательно делать, так как после окончания работы скрипта все объекты автоматически удаляются из памяти.\n",
    "\n",
    "Кроме того, мы можем определить определить в классе деструктор, реализовав встроенную функцию ***\\_\\_del\\_\\_***, который будет вызываться либо в результате вызова оператора ***del***, либо при автоматическом удалении объекта. Например:"
   ]
  },
  {
   "cell_type": "code",
   "execution_count": 9,
   "metadata": {},
   "outputs": [
    {
     "name": "stdout",
     "output_type": "stream",
     "text": [
      "Hi, my name is  John\n",
      "John removed from memory\n",
      "Lucy removed from memory\n",
      "Hi, my name is  Lucy\n"
     ]
    }
   ],
   "source": [
    "class Person:\n",
    "    \n",
    "    def __init__(self, name):\n",
    "        self.name = name\n",
    " \n",
    "    def __del__(self):\n",
    "        print(self.name,\"removed from memory\")\n",
    "        \n",
    "    def display_info(self):\n",
    "        print(\"Hi, my name is \", self.name)\n",
    " \n",
    " \n",
    "person1 = Person(\"John\")\n",
    "person1.display_info()\n",
    "del person1\n",
    "person2 = Person(\"Lucy\")\n",
    "person2.display_info() "
   ]
  },
  {
   "cell_type": "markdown",
   "metadata": {},
   "source": [
    "## Определение классов в модулях и подключение"
   ]
  },
  {
   "cell_type": "markdown",
   "metadata": {},
   "source": [
    "Как правило, классы размещаются в отдельных модулях и затем уже импортируются в основой скрипт программы. Пусть у нас будет в проекте два файла: файл **main.py**(основной скрипт программы) и **classes.py** (скрипт с определением классов)."
   ]
  },
  {
   "cell_type": "markdown",
   "metadata": {},
   "source": [
    "В файле **classes.py** определим два класса:"
   ]
  },
  {
   "cell_type": "code",
   "execution_count": 10,
   "metadata": {},
   "outputs": [],
   "source": [
    "class Person:\n",
    "    \n",
    "    def __init__(self, name):\n",
    "        self.name = name\n",
    " \n",
    "    def display_info(self):\n",
    "        print(\"Hi, my name is \", self.name)\n",
    " \n",
    " \n",
    "class Auto:\n",
    "    def __init__(self, name):\n",
    "        self.name = name\n",
    " \n",
    "    def move(self, speed):\n",
    "        print(self.name, \"\\'s speed is \", speed, \"km/h\")"
   ]
  },
  {
   "cell_type": "markdown",
   "metadata": {},
   "source": [
    "В дополнение к классу *Person* здесь также определен класс *Auto*, который представляет машину и который имеет метод *move* и атрибут *name*. Подключим эти классы и используем их в скрипте **main.py**:"
   ]
  },
  {
   "cell_type": "code",
   "execution_count": 14,
   "metadata": {},
   "outputs": [
    {
     "name": "stdout",
     "output_type": "stream",
     "text": [
      "Hi, my name is  John\n",
      "BMW 's speed is  65 km/h\n"
     ]
    }
   ],
   "source": [
    "# from classes import Person, Auto если у вас есть иерархия проекта в виде файлов\n",
    " \n",
    "tom = Person(\"John\")\n",
    "tom.display_info()\n",
    " \n",
    "bmw = Auto(\"BMW\")\n",
    "bmw.move(65)"
   ]
  },
  {
   "cell_type": "markdown",
   "metadata": {},
   "source": [
    "Подключение классов происходит точно также, как и функций из модуля. Мы можем подключить весь модуль выражением: ***import classes***. Либо подключить отдельные классы, как в примере выше."
   ]
  },
  {
   "cell_type": "markdown",
   "metadata": {},
   "source": [
    "## Задача:\n",
    "### Создать два класса Country и City. Класс Country имеет атрибуты: столица (объект City), города  (представляет собой список объектов класса City), население (определяется, как сумма населения во всех городах страны) и методы: метод добавления города в список, метод нахождения двух ближайших друг к другу городов, метод нахоождения ближайшего города для введённого города (если он есть в списке). Класс City имеет следующие атрибуты: название, население, координаты (широта и долгота). Написать функции, которая выводит страны в формате название_страны столица население в порядке убывания численности населения и в алфавитном порядке (по названию страны). В каждом классе определить конструктор и деструктор."
   ]
  },
  {
   "cell_type": "code",
   "execution_count": null,
   "metadata": {},
   "outputs": [],
   "source": []
  }
 ],
 "metadata": {
  "kernelspec": {
   "display_name": "Python 3",
   "language": "python",
   "name": "python3"
  },
  "language_info": {
   "codemirror_mode": {
    "name": "ipython",
    "version": 3
   },
   "file_extension": ".py",
   "mimetype": "text/x-python",
   "name": "python",
   "nbconvert_exporter": "python",
   "pygments_lexer": "ipython3",
   "version": "3.7.4"
  }
 },
 "nbformat": 4,
 "nbformat_minor": 4
}
